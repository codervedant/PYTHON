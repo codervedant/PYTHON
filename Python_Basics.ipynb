{
  "nbformat": 4,
  "nbformat_minor": 0,
  "metadata": {
    "colab": {
      "provenance": [],
      "authorship_tag": "ABX9TyNgu4V37WvfxHSHhmq5t+Ra",
      "include_colab_link": true
    },
    "kernelspec": {
      "name": "python3",
      "display_name": "Python 3"
    },
    "language_info": {
      "name": "python"
    }
  },
  "cells": [
    {
      "cell_type": "markdown",
      "metadata": {
        "id": "view-in-github",
        "colab_type": "text"
      },
      "source": [
        "<a href=\"https://colab.research.google.com/github/codervedant/PYTHON/blob/main/Python_Basics.ipynb\" target=\"_parent\"><img src=\"https://colab.research.google.com/assets/colab-badge.svg\" alt=\"Open In Colab\"/></a>"
      ]
    },
    {
      "cell_type": "code",
      "execution_count": null,
      "metadata": {
        "colab": {
          "base_uri": "https://localhost:8080/"
        },
        "id": "yGQIPIEEWlQ4",
        "outputId": "b12144ab-1989-4986-fedd-8154c9ea70d8"
      },
      "outputs": [
        {
          "output_type": "stream",
          "name": "stdout",
          "text": [
            "Enter the temperature - 35\n",
            "95.0\n"
          ]
        }
      ],
      "source": [
        "c = int(input(\"Enter the temperature -> \"))\n",
        "f = (9/5*c) + 32\n",
        "print(f)"
      ]
    },
    {
      "cell_type": "code",
      "source": [
        "def temperature(celsius):\n",
        "  f = (9/5*celsius) + 32\n",
        "  return f\n",
        "\n",
        "print(temperature(5))\n",
        "print(temperature(10))\n",
        "print(temperature(555))\n",
        "celsius = float(input(\"Enter the themperature in celsius -> \"))\n",
        "print(\"The temperature in farhenheit is \", temperature(celsius))\n"
      ],
      "metadata": {
        "colab": {
          "base_uri": "https://localhost:8080/"
        },
        "id": "spEvlk-CXn31",
        "outputId": "9e25bbe3-b6d6-4d26-c305-17296b134a9b"
      },
      "execution_count": null,
      "outputs": [
        {
          "output_type": "stream",
          "name": "stdout",
          "text": [
            "41.0\n",
            "50.0\n",
            "1031.0\n",
            "Enter the themperature in celsius -> 30\n",
            "The temperature in farhenheit is  86.0\n"
          ]
        }
      ]
    },
    {
      "cell_type": "code",
      "source": [
        "def addition(no, no1):\n",
        "  a = no + no1\n",
        "  return a\n",
        "\n",
        "no = float(input(\"Enter a number -> \"))\n",
        "no1 = float(input(\"Enter another number -> \"))\n",
        "print(\"The addition of these numbers is => \", addition(no, no1))"
      ],
      "metadata": {
        "colab": {
          "base_uri": "https://localhost:8080/"
        },
        "id": "S-KmN13XZOdc",
        "outputId": "47523148-e627-4df3-801d-b1fe29cdab52"
      },
      "execution_count": null,
      "outputs": [
        {
          "output_type": "stream",
          "name": "stdout",
          "text": [
            "Enter a number -> 8\n",
            "Enter another number -> 10\n",
            "The addition of these numbers is =>  18.0\n"
          ]
        }
      ]
    },
    {
      "cell_type": "code",
      "source": [
        "def subtraction(n1, n2):\n",
        "  s = n2 - n1\n",
        "  return s\n",
        "\n",
        "n1 = float(input(\"Enter a number\"))\n",
        "n2 = float(input(\"Enter another number\"))\n",
        "print(\"The difference between these number is => \", subtraction(n1, n2))"
      ],
      "metadata": {
        "colab": {
          "base_uri": "https://localhost:8080/"
        },
        "id": "3MVv-2D-aS-K",
        "outputId": "4e1b2ee2-9320-46d0-b140-68b0ac9a3bb2"
      },
      "execution_count": null,
      "outputs": [
        {
          "output_type": "stream",
          "name": "stdout",
          "text": [
            "Enter a number5\n",
            "Enter another number5\n",
            "The difference between these number is =>  0.0\n"
          ]
        }
      ]
    },
    {
      "cell_type": "code",
      "source": [
        "n1 = float(input(\"Enter a number -> \"))\n",
        "n2 = float(input(\"Enter another number -> \"))\n",
        "print(\"Do you want the sum or the difference between these numbers?\")\n",
        "option = int(input(\"Press 1 for addition and 2 for subtraction\"))\n",
        "if (option == 1):\n",
        "  print(\"The sum of these numbers is => \", addition(n1, n2))\n",
        "elif (option == 2):\n",
        "  print(\"The difference between these numbers is => \", subtraction(n1, n2))\n",
        "else:\n",
        "  print(\"Please enter 1 or 2\")"
      ],
      "metadata": {
        "colab": {
          "base_uri": "https://localhost:8080/"
        },
        "id": "xxcBamjibCgn",
        "outputId": "3a19f705-dfbf-461e-ef4c-04b495d6e3c0"
      },
      "execution_count": null,
      "outputs": [
        {
          "output_type": "stream",
          "name": "stdout",
          "text": [
            "Enter a number -> 20\n",
            "Enter another number -> 30\n",
            "Do you want the sum or the difference between these numbers?\n",
            "Press 1 for addition and 2 for subtraction4\n",
            "Please enter 1 or 2\n"
          ]
        }
      ]
    }
  ]
}