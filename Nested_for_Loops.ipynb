{
  "nbformat": 4,
  "nbformat_minor": 0,
  "metadata": {
    "colab": {
      "provenance": [],
      "authorship_tag": "ABX9TyMrERcH7xoIzB5BuNU9ogU4",
      "include_colab_link": true
    },
    "kernelspec": {
      "name": "python3",
      "display_name": "Python 3"
    },
    "language_info": {
      "name": "python"
    }
  },
  "cells": [
    {
      "cell_type": "markdown",
      "metadata": {
        "id": "view-in-github",
        "colab_type": "text"
      },
      "source": [
        "<a href=\"https://colab.research.google.com/github/codervedant/PYTHON/blob/main/Nested_for_Loops.ipynb\" target=\"_parent\"><img src=\"https://colab.research.google.com/assets/colab-badge.svg\" alt=\"Open In Colab\"/></a>"
      ]
    },
    {
      "cell_type": "code",
      "execution_count": null,
      "metadata": {
        "colab": {
          "base_uri": "https://localhost:8080/"
        },
        "id": "AjX184OVtWqE",
        "outputId": "c81d1564-f8f3-4a73-af02-a834bc8ec678"
      },
      "outputs": [
        {
          "output_type": "stream",
          "name": "stdout",
          "text": [
            "How many rows of stars do you want -> 5\n",
            "\n",
            "*  \n",
            "*  *  \n",
            "*  *  *  \n",
            "*  *  *  *  \n"
          ]
        }
      ],
      "source": [
        "num = int(input(\"How many rows of stars do you want -> \"))\n",
        "\n",
        "for f in range(0, num):\n",
        "  for g in range(0, f + 1):\n",
        "    print(\"*\", end = \"  \")\n",
        "  print()\n"
      ]
    },
    {
      "cell_type": "code",
      "source": [],
      "metadata": {
        "id": "zkWsB4N2d3pB"
      },
      "execution_count": null,
      "outputs": []
    },
    {
      "cell_type": "code",
      "source": [
        "num = int(input(\"How many rows of stars do you want -> \"))\n",
        "\n",
        "for f in range(0, num):\n",
        "  for g in range(num, f, -1):\n",
        "    print(\"*\", end = \"  \")\n",
        "  print()"
      ],
      "metadata": {
        "colab": {
          "base_uri": "https://localhost:8080/"
        },
        "id": "O4k_Ee7suylL",
        "outputId": "5b628b07-42ef-4b51-8bfc-d9b702561d61"
      },
      "execution_count": null,
      "outputs": [
        {
          "output_type": "stream",
          "name": "stdout",
          "text": [
            "How many columns of stars do you want -> 5\n",
            "*  *  *  *  *  \n",
            "*  *  *  *  \n",
            "*  *  *  \n",
            "*  *  \n",
            "*  \n"
          ]
        }
      ]
    },
    {
      "cell_type": "code",
      "source": [
        "num = int(input(\"How many rows of numbers do you want -> \"))\n",
        "\n",
        "for n in range(0, num + 1):\n",
        "  for g in range(0, n + 1, +1):\n",
        "    print(n, end = \"  \")\n",
        "  print()"
      ],
      "metadata": {
        "colab": {
          "base_uri": "https://localhost:8080/"
        },
        "id": "0JmeJrxdwNU8",
        "outputId": "9bf1607d-bcae-4ca1-ec61-5e47a577e5e7"
      },
      "execution_count": null,
      "outputs": [
        {
          "output_type": "stream",
          "name": "stdout",
          "text": [
            "How many rows of numbers do you want -> 5\n",
            "0  \n",
            "1  1  \n",
            "2  2  2  \n",
            "3  3  3  3  \n",
            "4  4  4  4  4  \n",
            "5  5  5  5  5  5  \n"
          ]
        }
      ]
    },
    {
      "cell_type": "code",
      "source": [
        "num = int(input(\"How many rows of numbers do you want -> \"))\n",
        "\n",
        "for n in range(0, num + 1):\n",
        "  for g in range(num, n, -1):\n",
        "    print(g, end = \"  \")\n",
        "  print()"
      ],
      "metadata": {
        "colab": {
          "base_uri": "https://localhost:8080/"
        },
        "id": "fVwNF0xiyKL0",
        "outputId": "d09ae2f2-a1a4-4a9f-8d0b-69ebd978f217"
      },
      "execution_count": null,
      "outputs": [
        {
          "output_type": "stream",
          "name": "stdout",
          "text": [
            "How many rows of numbers do you want -> 5\n",
            "5  4  3  2  1  \n",
            "5  4  3  2  \n",
            "5  4  3  \n",
            "5  4  \n",
            "5  \n",
            "\n"
          ]
        }
      ]
    },
    {
      "cell_type": "code",
      "source": [
        "num = int(input(\"How many rows of numbers do you want -> \"))\n",
        "\n",
        "for n in range(0, num + 1):\n",
        "  for g in range(num, n, -1):\n",
        "    print(n, end = \"  \")\n",
        "  print()"
      ],
      "metadata": {
        "colab": {
          "base_uri": "https://localhost:8080/"
        },
        "id": "yHNVax5Cyzgi",
        "outputId": "e8d99627-d0ca-4002-f270-ac11c11c9416"
      },
      "execution_count": null,
      "outputs": [
        {
          "output_type": "stream",
          "name": "stdout",
          "text": [
            "How many rows of numbers do you want -> 5\n",
            "0  0  0  0  0  \n",
            "1  1  1  1  \n",
            "2  2  2  \n",
            "3  3  \n",
            "4  \n",
            "\n"
          ]
        }
      ]
    },
    {
      "cell_type": "code",
      "source": [
        "num = int(input(\"How many rows of numbers do you want -> \"))\n",
        "\n",
        "for n in range(0, num + 1):\n",
        "  for g in range(0, n, +1):\n",
        "    print(g, end = \"  \")\n",
        "  print()"
      ],
      "metadata": {
        "colab": {
          "base_uri": "https://localhost:8080/"
        },
        "id": "GNq8FJcwzEXN",
        "outputId": "469e3033-faec-4f1b-caec-6b541effaf56"
      },
      "execution_count": null,
      "outputs": [
        {
          "output_type": "stream",
          "name": "stdout",
          "text": [
            "How many rows of numbers do you want -> 5\n",
            "\n",
            "0  \n",
            "0  1  \n",
            "0  1  2  \n",
            "0  1  2  3  \n",
            "0  1  2  3  4  \n"
          ]
        }
      ]
    },
    {
      "cell_type": "code",
      "source": [
        "num = int(input(\"How many rows of numbers do you want -> \"))\n",
        "\n",
        "for n in range(0, num + 1):\n",
        "  for g in range(0, n + 1, +1):\n",
        "    print(g, end = \"  \")\n",
        "  print()"
      ],
      "metadata": {
        "colab": {
          "base_uri": "https://localhost:8080/"
        },
        "id": "C8chYDU0xTUY",
        "outputId": "fd7b3e97-fb4f-4bad-ca0e-29e1f9b7325a"
      },
      "execution_count": null,
      "outputs": [
        {
          "output_type": "stream",
          "name": "stdout",
          "text": [
            "How many rows of numbers do you want -> 5\n",
            "0  \n",
            "0  1  \n",
            "0  1  2  \n",
            "0  1  2  3  \n",
            "0  1  2  3  4  \n",
            "0  1  2  3  4  5  \n"
          ]
        }
      ]
    },
    {
      "cell_type": "code",
      "source": [
        "num = int(input(\"How many rows of numbers do you want -> \"))\n",
        "\n",
        "for n in range(1, num + 1):\n",
        "  for g in range(1, n + 1, +1):\n",
        "    print(g, end = \"  \")\n",
        "  print()"
      ],
      "metadata": {
        "colab": {
          "base_uri": "https://localhost:8080/"
        },
        "id": "d6PH4hbJxi-K",
        "outputId": "c5cf791e-72b9-4b7a-a28f-2e1e9dde116b"
      },
      "execution_count": null,
      "outputs": [
        {
          "output_type": "stream",
          "name": "stdout",
          "text": [
            "How many rows of numbers do you want -> 5\n",
            "1  \n",
            "1  2  \n",
            "1  2  3  \n",
            "1  2  3  4  \n",
            "1  2  3  4  5  \n"
          ]
        }
      ]
    }
  ]
}