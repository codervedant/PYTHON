{
  "nbformat": 4,
  "nbformat_minor": 0,
  "metadata": {
    "colab": {
      "provenance": [],
      "authorship_tag": "ABX9TyOpWso+IvN/Kiqk2Ms4c6qV",
      "include_colab_link": true
    },
    "kernelspec": {
      "name": "python3",
      "display_name": "Python 3"
    },
    "language_info": {
      "name": "python"
    }
  },
  "cells": [
    {
      "cell_type": "markdown",
      "metadata": {
        "id": "view-in-github",
        "colab_type": "text"
      },
      "source": [
        "<a href=\"https://colab.research.google.com/github/codervedant/PYTHON/blob/main/Simple_Python_Programs_(97).ipynb\" target=\"_parent\"><img src=\"https://colab.research.google.com/assets/colab-badge.svg\" alt=\"Open In Colab\"/></a>"
      ]
    },
    {
      "cell_type": "code",
      "execution_count": null,
      "metadata": {
        "id": "rmcq2uBRi32d",
        "colab": {
          "base_uri": "https://localhost:8080/"
        },
        "outputId": "52a7ce87-4d38-4989-f7c9-dd656ece0b73"
      },
      "outputs": [
        {
          "output_type": "stream",
          "name": "stdout",
          "text": [
            "Enter a year to check if it is a leap year or not -> 2000\n",
            "2000 is a leap year.\n"
          ]
        }
      ],
      "source": [
        "y = int(input(\"Enter a year to check if it is a leap year or not -> \"))\n",
        "d = y%4\n",
        "\n",
        "if y%4 == 0 and y%100 != 0:\n",
        "  print(y, \"is a leap year\")\n",
        "elif y%100 == 0 and y%400 == 0:\n",
        "  print(y, \"is a leap year.\")\n",
        "else:\n",
        "  print(y, \"is not a leap year\")\n",
        "  print(\"The next leap year will be\", y + 4 - d)\n",
        "\n"
      ]
    },
    {
      "cell_type": "code",
      "source": [
        "def leapyear(year):\n",
        "  d = year%4\n",
        "\n",
        "if y%4 == 0 and y%100 != 0:\n",
        "  print(y, \"is a leap year\")\n",
        "elif y%100 == 0 and y%400 == 0:\n",
        "  print(y, \"is a leap year.\")\n",
        "else:\n",
        "  print(y, \"is not a leap year\")\n",
        "  print(\"The next leap year will be\", y + 4 - d)\n",
        "\n",
        "year = int(input(\"Enter a year to check if it is a leap year or not -> \"))\n",
        "\n",
        "leapyear(year)\n",
        "\n",
        "\n",
        "  "
      ],
      "metadata": {
        "colab": {
          "base_uri": "https://localhost:8080/"
        },
        "id": "P6PaWCBanc4t",
        "outputId": "bb926191-4a1d-40dd-d8b7-9ba3edd0d190"
      },
      "execution_count": null,
      "outputs": [
        {
          "output_type": "stream",
          "name": "stdout",
          "text": [
            "Enter a year to check if it is a leap year or not -> 1900\n",
            "1900 is not a leap year\n",
            "The next leap year will be 1904\n"
          ]
        }
      ]
    },
    {
      "cell_type": "code",
      "source": [
        "h = float(input(\"Enter your height in centimetres -> \"))\n",
        "i = h*0.394\n",
        "f = h*0.0328\n",
        "m = h*0.01\n",
        "\n",
        "print(\"Your height in inches is \", i)\n",
        "print(\"Your height in feet is \", f)\n",
        "print(\"Your height in metres is \", m)"
      ],
      "metadata": {
        "colab": {
          "base_uri": "https://localhost:8080/"
        },
        "id": "wM89ouqpqJKT",
        "outputId": "0f90ca0f-2788-438c-c065-5959d7d6f71b"
      },
      "execution_count": null,
      "outputs": [
        {
          "output_type": "stream",
          "name": "stdout",
          "text": [
            "Enter your height in centimetres -> 161\n",
            "Your height in inches is  63.434000000000005\n",
            "Your height in feet is  5.2808\n",
            "Your height in metres is  1.61\n"
          ]
        }
      ]
    },
    {
      "cell_type": "code",
      "source": [
        "def height(cm):\n",
        "  i = cm*0.394\n",
        "  f = cm*0.0328\n",
        "  m = cm*0.01\n",
        "\n",
        "  print(\"Your height in inches is \", i)\n",
        "  print(\"Your height in feet is \", f)\n",
        "  print(\"Your height in metres is \", m)\n",
        "\n",
        "cm = float(input(\"Enter your height in centimetres -> \"))\n",
        "\n",
        "height(cm)\n"
      ],
      "metadata": {
        "colab": {
          "base_uri": "https://localhost:8080/"
        },
        "id": "c5oOzwH5rPdX",
        "outputId": "5903410c-be07-44e9-cc03-710f31519b27"
      },
      "execution_count": null,
      "outputs": [
        {
          "output_type": "stream",
          "name": "stdout",
          "text": [
            "Enter your height in centimetres -> 174\n",
            "Your height in inches is  68.556\n",
            "Your height in feet is  5.7072\n",
            "Your height in metres is  1.74\n"
          ]
        }
      ]
    }
  ]
}