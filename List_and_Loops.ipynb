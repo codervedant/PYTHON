{
  "nbformat": 4,
  "nbformat_minor": 0,
  "metadata": {
    "colab": {
      "provenance": [],
      "authorship_tag": "ABX9TyM9caxKD/C2aQHwSXw4eVll",
      "include_colab_link": true
    },
    "kernelspec": {
      "name": "python3",
      "display_name": "Python 3"
    },
    "language_info": {
      "name": "python"
    }
  },
  "cells": [
    {
      "cell_type": "markdown",
      "metadata": {
        "id": "view-in-github",
        "colab_type": "text"
      },
      "source": [
        "<a href=\"https://colab.research.google.com/github/codervedant/PYTHON/blob/main/List_and_Loops.ipynb\" target=\"_parent\"><img src=\"https://colab.research.google.com/assets/colab-badge.svg\" alt=\"Open In Colab\"/></a>"
      ]
    },
    {
      "cell_type": "code",
      "execution_count": null,
      "metadata": {
        "colab": {
          "base_uri": "https://localhost:8080/"
        },
        "id": "dx-Scaw5uXOm",
        "outputId": "56544abe-1d9c-4dcd-dbe2-2648a5ff26f3"
      },
      "outputs": [
        {
          "output_type": "stream",
          "name": "stdout",
          "text": [
            "565\n",
            "565\n"
          ]
        }
      ],
      "source": [
        "list1 = []\n",
        "list2 = [1,3,4,52,565,3,5]\n",
        "len(list2)\n",
        "print(list2[4])\n",
        "print(list2[-3])\n"
      ]
    },
    {
      "cell_type": "code",
      "source": [
        "#Use slicing to display last no.\n",
        "list2[::-1]"
      ],
      "metadata": {
        "colab": {
          "base_uri": "https://localhost:8080/"
        },
        "id": "v9yx8o2XvLcK",
        "outputId": "ab447163-a384-41c5-c72b-e589a588d028"
      },
      "execution_count": null,
      "outputs": [
        {
          "output_type": "execute_result",
          "data": {
            "text/plain": [
              "[5, 3, 565, 52, 4, 3, 1]"
            ]
          },
          "metadata": {},
          "execution_count": 13
        }
      ]
    },
    {
      "cell_type": "code",
      "source": [
        "for elem in list2:\n",
        "  print(elem)"
      ],
      "metadata": {
        "colab": {
          "base_uri": "https://localhost:8080/"
        },
        "id": "piIyFO38w3wq",
        "outputId": "406f2cd8-c5d0-48d2-ce3c-abbd5b9aa701"
      },
      "execution_count": null,
      "outputs": [
        {
          "output_type": "stream",
          "name": "stdout",
          "text": [
            "1\n",
            "3\n",
            "4\n",
            "52\n",
            "565\n",
            "3\n",
            "5\n"
          ]
        }
      ]
    },
    {
      "cell_type": "code",
      "source": [
        "for el in range(5,0,-2):\n",
        "  print(el)"
      ],
      "metadata": {
        "colab": {
          "base_uri": "https://localhost:8080/"
        },
        "id": "FuHk1J4uxO2y",
        "outputId": "fb9c5367-25db-4e43-8750-8b79fa862415"
      },
      "execution_count": null,
      "outputs": [
        {
          "output_type": "stream",
          "name": "stdout",
          "text": [
            "5\n",
            "3\n",
            "1\n"
          ]
        }
      ]
    },
    {
      "cell_type": "code",
      "source": [
        "ml = [79,78,79,67,77,89,89,90,88,87,87,89,67,89,76,78,67,90,98,97,67,87,98,97]\n",
        "n = int(input(\"Enter the marks -> \"))\n",
        "count = 0\n",
        "\n",
        "for nt in ml:\n",
        "  if n == nt:\n",
        "    count = count + 1\n",
        "\n",
        "print(count)"
      ],
      "metadata": {
        "colab": {
          "base_uri": "https://localhost:8080/"
        },
        "id": "gsUkXV6HyFrs",
        "outputId": "efa34200-089e-43d8-bffe-a2b657325912"
      },
      "execution_count": null,
      "outputs": [
        {
          "output_type": "stream",
          "name": "stdout",
          "text": [
            "Enter the marks7\n",
            "0\n"
          ]
        }
      ]
    },
    {
      "cell_type": "code",
      "source": [
        "tuple1 = (12,1221,3434,3243)\n",
        "print(tuple1)\n"
      ],
      "metadata": {
        "colab": {
          "base_uri": "https://localhost:8080/"
        },
        "id": "3-RBvukPzp-m",
        "outputId": "ba5c83ec-3ca7-4cfd-8a5d-a20ffdfa9204"
      },
      "execution_count": null,
      "outputs": [
        {
          "output_type": "stream",
          "name": "stdout",
          "text": [
            "(12, 1221, 3434, 3243)\n"
          ]
        }
      ]
    },
    {
      "cell_type": "markdown",
      "source": [
        "Difference between a tuple and a list.\n",
        "A list is mutable (can be changed) however a tuple cannot be modified"
      ],
      "metadata": {
        "id": "4AXgtlc60Tj_"
      }
    }
  ]
}