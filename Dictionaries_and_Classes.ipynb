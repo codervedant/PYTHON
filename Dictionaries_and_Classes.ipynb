{
  "nbformat": 4,
  "nbformat_minor": 0,
  "metadata": {
    "colab": {
      "provenance": [],
      "authorship_tag": "ABX9TyPiPuULdvuBp7L57yeUhbLu",
      "include_colab_link": true
    },
    "kernelspec": {
      "name": "python3",
      "display_name": "Python 3"
    },
    "language_info": {
      "name": "python"
    }
  },
  "cells": [
    {
      "cell_type": "markdown",
      "metadata": {
        "id": "view-in-github",
        "colab_type": "text"
      },
      "source": [
        "<a href=\"https://colab.research.google.com/github/codervedant/PYTHON/blob/main/Dictionaries_and_Classes.ipynb\" target=\"_parent\"><img src=\"https://colab.research.google.com/assets/colab-badge.svg\" alt=\"Open In Colab\"/></a>"
      ]
    },
    {
      "cell_type": "code",
      "execution_count": 1,
      "metadata": {
        "colab": {
          "base_uri": "https://localhost:8080/"
        },
        "id": "VIAQceUg3VbR",
        "outputId": "c27ccf25-f4d3-4cb2-ecde-33a71904ced6"
      },
      "outputs": [
        {
          "output_type": "stream",
          "name": "stdout",
          "text": [
            "<class 'dict'>\n"
          ]
        }
      ],
      "source": [
        "contacts = {\n",
        "    \"name\": \"Vedant\",\n",
        "    \"contact\": 9021615741,\n",
        "    \"email\": \"vsak2008@gmail.com\",\n",
        "    \"address\": \"kfdsjfhdjshgiurs\"\n",
        "}\n",
        "print(type(contacts))"
      ]
    },
    {
      "cell_type": "code",
      "source": [
        "class contact:\n",
        "  def __init__(self, name, contact, email, address):\n",
        "    self.name = name\n",
        "    self.contact = contact\n",
        "    self.mail = email\n",
        "    self.address = address\n",
        "\n",
        "    self.person = {\n",
        "        \"name\": self.name,\n",
        "        \"contact\": self.contact,\n",
        "        \"email\": self.mail,\n",
        "        \"address\": self.address\n",
        "    }\n",
        "\n",
        "  def view_contacts_details(self,contact_list):\n",
        "    print(contact_list)\n",
        "    print()\n",
        "\n",
        "  def add_contacts_details(self,contact_list):\n",
        "    contact_list.append(self.person)\n"
      ],
      "metadata": {
        "id": "d8STabgt4YcS"
      },
      "execution_count": 18,
      "outputs": []
    },
    {
      "cell_type": "code",
      "source": [
        "new_contact = contact(\"Chinmay\", 9511297850, \"csak246@gmail.com\", \"skskskskksdk\")\n",
        "print(new_contact)\n",
        "phonebook = []\n",
        "new_contact.add_contacts_details(phonebook)\n",
        "new_contact.view_contacts_details(phonebook)"
      ],
      "metadata": {
        "colab": {
          "base_uri": "https://localhost:8080/"
        },
        "id": "BCs624LA6gRd",
        "outputId": "bcb6b8bc-e656-4785-c360-e5769e11c6d8"
      },
      "execution_count": 8,
      "outputs": [
        {
          "output_type": "stream",
          "name": "stdout",
          "text": [
            "<__main__.contact object at 0x7fd6a4f32f10>\n",
            "[{'name': 'Chinmay', 'contact': 9511297850, 'email': 'csak246@gmail.com', 'address': 'skskskskksdk'}]\n"
          ]
        }
      ]
    },
    {
      "cell_type": "code",
      "source": [
        "sc = contact(\"Sandip\", 9922664154, \"gicare2006@yahoo.com\", \"kjfhjdfhfhj\")\n",
        "print(sc)\n",
        "sc.add_contacts_details(phonebook)\n",
        "sc.view_contacts_details(phonebook)\n",
        "print(phonebook)"
      ],
      "metadata": {
        "colab": {
          "base_uri": "https://localhost:8080/"
        },
        "id": "gKJV400Y8BKg",
        "outputId": "447d1850-3e24-449d-eec2-68d19a16d2d7"
      },
      "execution_count": 19,
      "outputs": [
        {
          "output_type": "stream",
          "name": "stdout",
          "text": [
            "<__main__.contact object at 0x7fd6a4e95bb0>\n",
            "[{'name': 'Chinmay', 'contact': 9511297850, 'email': 'csak246@gmail.com', 'address': 'skskskskksdk'}, {'name': 'Sandip', 'contact': 9922664154, 'email': 'gicare2006@yahoo.com', 'address': 'kjfhjdfhfhj'}, {'name': 'Sandip', 'contact': 9922664154, 'email': 'gicare2006@yahoo.com', 'address': 'kjfhjdfhfhj'}, {'name': 'Sandip', 'contact': 9922664154, 'email': 'gicare2006@yahoo.com', 'address': 'kjfhjdfhfhj'}, {'name': 'Sandip', 'contact': 9922664154, 'email': 'gicare2006@yahoo.com', 'address': 'kjfhjdfhfhj'}, {'name': 'Sandip', 'contact': 9922664154, 'email': 'gicare2006@yahoo.com', 'address': 'kjfhjdfhfhj'}, {'name': 'Sandip', 'contact': 9922664154, 'email': 'gicare2006@yahoo.com', 'address': 'kjfhjdfhfhj'}]\n",
            "\n",
            "[{'name': 'Chinmay', 'contact': 9511297850, 'email': 'csak246@gmail.com', 'address': 'skskskskksdk'}, {'name': 'Sandip', 'contact': 9922664154, 'email': 'gicare2006@yahoo.com', 'address': 'kjfhjdfhfhj'}, {'name': 'Sandip', 'contact': 9922664154, 'email': 'gicare2006@yahoo.com', 'address': 'kjfhjdfhfhj'}, {'name': 'Sandip', 'contact': 9922664154, 'email': 'gicare2006@yahoo.com', 'address': 'kjfhjdfhfhj'}, {'name': 'Sandip', 'contact': 9922664154, 'email': 'gicare2006@yahoo.com', 'address': 'kjfhjdfhfhj'}, {'name': 'Sandip', 'contact': 9922664154, 'email': 'gicare2006@yahoo.com', 'address': 'kjfhjdfhfhj'}, {'name': 'Sandip', 'contact': 9922664154, 'email': 'gicare2006@yahoo.com', 'address': 'kjfhjdfhfhj'}]\n"
          ]
        }
      ]
    }
  ]
}