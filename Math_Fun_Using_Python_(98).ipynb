{
  "nbformat": 4,
  "nbformat_minor": 0,
  "metadata": {
    "colab": {
      "provenance": [],
      "authorship_tag": "ABX9TyNUtRlnjIn0tsA/KbCNWval",
      "include_colab_link": true
    },
    "kernelspec": {
      "name": "python3",
      "display_name": "Python 3"
    },
    "language_info": {
      "name": "python"
    }
  },
  "cells": [
    {
      "cell_type": "markdown",
      "metadata": {
        "id": "view-in-github",
        "colab_type": "text"
      },
      "source": [
        "<a href=\"https://colab.research.google.com/github/codervedant/PYTHON/blob/main/Math_Fun_Using_Python_(98).ipynb\" target=\"_parent\"><img src=\"https://colab.research.google.com/assets/colab-badge.svg\" alt=\"Open In Colab\"/></a>"
      ]
    },
    {
      "cell_type": "code",
      "execution_count": null,
      "metadata": {
        "colab": {
          "base_uri": "https://localhost:8080/"
        },
        "id": "sIxFhxXD5h3Z",
        "outputId": "4c847690-5090-478c-b1d2-aa8079d20d4e"
      },
      "outputs": [
        {
          "output_type": "stream",
          "name": "stdout",
          "text": [
            "Please enter the lower limit of the series -> 3\n",
            "Please enter the upper limit of the series -> 30\n",
            "Please enter the number to be divided by -> 5\n",
            "5\n",
            "10\n",
            "15\n",
            "20\n",
            "25\n",
            "30\n"
          ]
        }
      ],
      "source": [
        "l = int(input(\"Please enter the lower limit of the series -> \"))\n",
        "u = int(input(\"Please enter the upper limit of the series -> \"))\n",
        "d = int(input(\"Please enter the number to be divided by -> \"))\n",
        "\n",
        "for i in range(l, u + 1):\n",
        "  if i%d == 0:\n",
        "    print(i)"
      ]
    }
  ]
}